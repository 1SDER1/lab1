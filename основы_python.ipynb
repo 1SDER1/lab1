{
  "cells": [
    {
      "cell_type": "markdown",
      "metadata": {
        "id": "M-DGa20PaHnu"
      },
      "source": [
        "#Задача 1\n",
        "Написать функцию на вход которой подается строка, состоящая из латинских букв.\n",
        "Функция должна вернуть количество гласных букв (a, e, i, o, u) в этой строке. Написать тесты для кода"
      ]
    },
    {
      "cell_type": "code",
      "execution_count": 2,
      "metadata": {
        "id": "XvX8X_JJ6PCb"
      },
      "outputs": [],
      "source": [
        "def count_vowels(s):\n",
        "    vowels = \"aeiou\"\n",
        "    count = 0\n",
        "    for char in s:\n",
        "        if char.lower() in vowels:\n",
        "            count += 1\n",
        "    return count\n",
        "\n",
        "def test_count_vowels():\n",
        "    assert count_vowels(\"hello\") == 2\n",
        "    assert count_vowels(\"python\") == 1\n",
        "    assert count_vowels(\"apple\") == 2\n",
        "    assert count_vowels(\"banana\") == 3\n",
        "    assert count_vowels(\"qwerty\") == 1\n",
        "\n",
        "test_count_vowels()\n"
      ]
    },
    {
      "cell_type": "markdown",
      "metadata": {
        "id": "t2ClV_Y0bbr6"
      },
      "source": [
        "# Задача 2\n",
        "Написать функцию на вход, которой подается строка. Функция должна вернуть true, если\n",
        "каждый символ в строке встречается только 1 раз, иначе должна вернуть false. Написать тесты для кода"
      ]
    },
    {
      "cell_type": "code",
      "execution_count": 4,
      "metadata": {
        "id": "FppbECao6VIz"
      },
      "outputs": [],
      "source": [
        "def is_unique(s):\n",
        "    char_count = {}\n",
        "    for char in s:\n",
        "        if char in char_count:\n",
        "            return False\n",
        "        else:\n",
        "            char_count[char] = 1\n",
        "    return True\n",
        "\n",
        "def test_is_unique():\n",
        "    assert is_unique(\"abcdefg\") == True\n",
        "    assert is_unique(\"hello\") == False\n",
        "    assert is_unique(\"world\") == True\n",
        "    assert is_unique(\"\") == True\n",
        "    assert is_unique(\"aabbcdef\") == False\n",
        "\n",
        "test_is_unique()"
      ]
    },
    {
      "cell_type": "markdown",
      "metadata": {
        "id": "udRiIK1cdt6E"
      },
      "source": [
        "Задача 3\n",
        "Написать функцию, которая принимает положительное число и возвращает количество\n",
        "бит равных 1 в этом числе. Написать тесты для кода\n"
      ]
    },
    {
      "cell_type": "code",
      "execution_count": 6,
      "metadata": {
        "id": "6tkfDJRz6dp_"
      },
      "outputs": [],
      "source": [
        "def count_bits(n):\n",
        "    count = 0\n",
        "    while n > 0:\n",
        "        if n & 1:\n",
        "            count += 1\n",
        "        n >>= 1\n",
        "    return count\n",
        "\n",
        "def test_count_bits():\n",
        "    assert count_bits(10) == 2\n",
        "    assert count_bits(7) == 3\n",
        "    assert count_bits(0) == 0\n",
        "    assert count_bits(1) == 1\n",
        "    assert count_bits(1023) == 10\n",
        "\n",
        "test_count_bits()\n"
      ]
    },
    {
      "cell_type": "markdown",
      "metadata": {
        "id": "26dDUz-Ae17N"
      },
      "source": [
        "# Задача 4\n",
        "Написать функцию, которая принимает положительное число. Функция должна вернуть то,\n",
        "сколько раз необходимо перемножать цифры числа или результат перемножения, чтобы\n",
        "получилось число состоящее из одной цифры.\n",
        "Например, для входного числа:\n",
        "· 39 функция должна вернуть 3, так как 3*9=27 => 2*7=14 => 1*4=4\n",
        "· 4 функция должна вернуть 0, так как число уже состоит из одной цифры\n",
        "· 999 функция должна вернуть 4, так как 9*9*9=729 => 7*2*9=126 => 1*2*6=12 =>\n",
        "1*2=2. Написать тесты для кода"
      ]
    },
    {
      "cell_type": "code",
      "execution_count": 26,
      "metadata": {
        "id": "BH1A_Mgi6i4G"
      },
      "outputs": [],
      "source": [
        "def magic(n):\n",
        "    steps = 0\n",
        "    while n >= 10:\n",
        "        product = 1\n",
        "        for digit in str(n):\n",
        "            product *= int(digit)\n",
        "        n = product\n",
        "        steps += 1\n",
        "    return steps\n",
        "\n",
        "\n",
        "test_cases = [\n",
        "    (39, 3),\n",
        "    (4, 0),\n",
        "    (999, 4),\n",
        "    (25, 2),\n",
        "    (1, 0),\n",
        "]\n",
        "\n",
        "\n"
      ]
    },
    {
      "cell_type": "markdown",
      "metadata": {
        "id": "0nS-kIa8g8vd"
      },
      "source": [
        "# Задача 5\n",
        "Написать функцию, которая принимает два целочисленных вектора одинаковой длины и\n",
        "возвращает среднеквадратическое отклонение двух векторов. Написать тесты для кода"
      ]
    },
    {
      "cell_type": "code",
      "execution_count": 25,
      "metadata": {
        "id": "8iphx4LM6xbx"
      },
      "outputs": [],
      "source": [
        "def mse(v1, v2):\n",
        "    if len(v1) != len(v2):\n",
        "        raise ValueError(\"Vectors must be of the same length\")\n",
        "    \n",
        "    n = len(v1)\n",
        "    squared_diff_sum = sum((v1[i] - v2[i])**2 for i in range(n))\n",
        "    rmsd = (squared_diff_sum / n) ** 0.5\n",
        "    return rmsd\n",
        "\n",
        "def test_mse():\n",
        "    assert mse([1, 2, 3], [4, 5, 6]) == 3.0\n",
        "    assert mse([0, 0, 0], [0, 0, 0]) == 0.0\n",
        "    assert mse([1, 1, 1], [1, 1, 1]) == 0.0\n",
        "    assert mse([1, 2, 3], [1, 2, 3]) == 0.0\n",
        "\n",
        "test_mse()\n"
      ]
    },
    {
      "cell_type": "markdown",
      "metadata": {
        "id": "vpIPKL439zkw"
      },
      "source": [
        "# Задача 6\n",
        "Написать функцию, принимающая целое положительное число. Функция должна вернуть\n",
        "строку вида “(n1**p1)(n2**p2)…(nk**pk)” представляющая разложение числа на простые\n",
        "множители (если pi == 1, то выводить только ni).\n",
        "Например, для числа 86240 функция должна вернуть “(2**5)(5)(7**2)(11)”. Написать тесты для кода"
      ]
    },
    {
      "cell_type": "code",
      "execution_count": 27,
      "metadata": {
        "id": "pFebmcZk94Jw"
      },
      "outputs": [],
      "source": [
        "def prime_factorize(n):\n",
        "    factors = []\n",
        "    divisor = 2\n",
        "\n",
        "    while n > 1:\n",
        "        if n % divisor == 0:\n",
        "            power = 0\n",
        "            while n % divisor == 0:\n",
        "                n = n // divisor\n",
        "                power += 1\n",
        "            factors.append((divisor, power))\n",
        "        divisor += 1\n",
        "\n",
        "    factor_string = \"\"\n",
        "    for factor, power in factors:\n",
        "        if power == 1:\n",
        "            factor_string += f\"({factor})\"\n",
        "        else:\n",
        "            factor_string += f\"({factor}**{power})\"\n",
        "    \n",
        "    return factor_string\n",
        "\n",
        "def test_prime_factorize():\n",
        "    assert prime_factorize(10) == \"(2)(5)\"\n",
        "    assert prime_factorize(24) == \"(2**3)(3)\"\n",
        "    assert prime_factorize(30) == \"(2)(3)(5)\"\n",
        "    assert prime_factorize(86240) == \"(2**5)(5)(7**2)(11)\"\n",
        "\n",
        "test_prime_factorize()\n"
      ]
    },
    {
      "cell_type": "markdown",
      "metadata": {
        "id": "ps2s0BudX7A2"
      },
      "source": [
        "# Задача 7\n",
        "Написать функцию, принимающая целое число n, задающее количество кубиков. Функция\n",
        "должна определить, можно ли из данного кол-ва кубиков построить пирамиду, то есть\n",
        "можно ли представить число n как 1^2+2^2+3^2+…+k^2. Если можно, то функция должна\n",
        "вернуть k, иначе строку “It is impossible”. Написать тесты для кода"
      ]
    },
    {
      "cell_type": "code",
      "execution_count": 31,
      "metadata": {
        "id": "3YPjEXxhX_YT"
      },
      "outputs": [],
      "source": [
        "def pyramid(number):\n",
        "    k = 1\n",
        "    total = 0\n",
        "    while total < number:\n",
        "        total += k ** 2\n",
        "        k += 1\n",
        "    if total == number:\n",
        "        return k - 1\n",
        "    else:\n",
        "        return \"It is impossible\"\n",
        "\n",
        "def pyramid_string(n):\n",
        "    k = pyramid(n)\n",
        "    if k == \"It is impossible\":\n",
        "        return k\n",
        "    else:\n",
        "        return f\"{k}\"\n",
        "\n",
        "test_cases = [\n",
        "    (14, \"3\"),\n",
        "    (30, \"3\"),\n",
        "    (1, \"1\"),\n",
        "    (5, \"2\"),\n",
        "    (3, \"It is impossible\"),\n",
        "    (50, \"It is impossible\"),\n",
        "]\n"
      ]
    },
    {
      "cell_type": "markdown",
      "metadata": {
        "id": "KeKgmIdAQMEJ"
      },
      "source": [
        "# Задача 8\n",
        "Функция принимает на вход положительное число и определяет является ли оно сбалансированным, т.е. сумма цифр до средних равна сумме цифр после. Средними в случае нечетного числа цифр считать одну цифру, в случае четного - две средних. Написать тесты для кода"
      ]
    },
    {
      "cell_type": "code",
      "execution_count": 32,
      "metadata": {
        "id": "gMAAqtqlQrZt"
      },
      "outputs": [],
      "source": [
        "def is_balanced_number(num):\n",
        "    num_str = str(num)\n",
        "    length = len(num_str)\n",
        "\n",
        "    if length % 2 == 0:\n",
        "        mid_left = length // 2 - 1\n",
        "        mid_right = length // 2\n",
        "    else:\n",
        "        mid_left = mid_right = length // 2\n",
        "\n",
        "    sum_left = sum(int(digit) for digit in num_str[:mid_left])\n",
        "    sum_right = sum(int(digit) for digit in num_str[mid_right + 1:])\n",
        "\n",
        "    return sum_left == sum_right\n",
        "\n",
        "def test_is_balanced_number():\n",
        "    assert is_balanced_number(12321) == True\n",
        "    assert is_balanced_number(1221) == True\n",
        "    assert is_balanced_number(123456) == False\n",
        "    assert is_balanced_number(111000111) == True\n",
        "    assert is_balanced_number(987654321) == False\n",
        "\n",
        "test_is_balanced_number()\n"
      ]
    }
  ],
  "metadata": {
    "colab": {
      "provenance": []
    },
    "kernelspec": {
      "display_name": "Python 3",
      "name": "python3"
    },
    "language_info": {
      "codemirror_mode": {
        "name": "ipython",
        "version": 3
      },
      "file_extension": ".py",
      "mimetype": "text/x-python",
      "name": "python",
      "nbconvert_exporter": "python",
      "pygments_lexer": "ipython3",
      "version": "3.10.6"
    }
  },
  "nbformat": 4,
  "nbformat_minor": 0
}
